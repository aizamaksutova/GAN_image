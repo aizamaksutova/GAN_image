{
 "cells": [
  {
   "cell_type": "code",
   "execution_count": null,
   "metadata": {},
   "outputs": [],
   "source": [
    "# use this guide:\n",
    "# https://wandb.ai/_scott/gif-maker/reports/Create-Gifs-From-Images-Logged-to-Weights-Biases--VmlldzoyMTI4NDQx\n",
    "\n",
    "import wandb\n",
    "import os\n",
    "from pathlib import Path\n",
    "from tqdm.notebook import tqdm\n",
    "from PIL import Image\n",
    "\n",
    "DURATION = 15\n",
    "\n",
    "api = wandb.Api()\n",
    "RUN_KEY = \"aamaksutova/VAE1/7shryncy\" # use your key\n",
    "run = api.run(RUN_KEY)\n",
    "\n",
    "\n",
    "for file in tqdm(run.files()):\n",
    "    if file.name.endswith(\".png\") and file.name.find(\"test\") != -1:\n",
    "        file.download(replace=True)\n",
    "\n",
    "\n",
    "\n",
    "\n",
    "\n",
    "def images_to_gif(image_fnames, fname):\n",
    "    image_fnames.sort(key=lambda x: int(x.name.split(\"_\")[-2]))  # sort by step\n",
    "    frames = [Image.open(image) for image in image_fnames]\n",
    "    frame_one = frames[0]\n",
    "    frame_one.save(f\"{fname}.gif\", format=\"GIF\", append_images=frames, save_all=True, duration=DURATION, loop=0)\n",
    "\n",
    "\n",
    "\n",
    "fpaths = []\n",
    "for fname in os.listdir(\"media/images\"):\n",
    "    fpaths.append(Path(f\"media/images/{fname}\"))\n",
    "images_to_gif(fpaths, \"art\")"
   ]
  }
 ],
 "metadata": {
  "kernelspec": {
   "display_name": "Python 3 (ipykernel)",
   "language": "python",
   "name": "python3"
  },
  "orig_nbformat": 4
 },
 "nbformat": 4,
 "nbformat_minor": 2
}
